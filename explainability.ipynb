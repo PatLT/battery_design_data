{
 "cells": [
  {
   "cell_type": "code",
   "execution_count": 1,
   "metadata": {},
   "outputs": [],
   "source": [
    "import pandas as pd\n",
    "import numpy as np\n",
    "import matplotlib.pyplot as plt\n",
    "import seaborn as sns"
   ]
  },
  {
   "cell_type": "code",
   "execution_count": 2,
   "metadata": {},
   "outputs": [],
   "source": [
    "from sklearn.pipeline import Pipeline\n",
    "from sklearn.preprocessing import MinMaxScaler,StandardScaler"
   ]
  },
  {
   "cell_type": "markdown",
   "metadata": {},
   "source": [
    "Let's test whether warranty data can be used as a proxy for battery life. We will do this by assessing the influence of 'manufacturer agnostic' metrics on warranty data:\n",
    "* Cell chemistry\n",
    "* Cooling type\n",
    "* SoC window\n",
    "\n",
    "As well as manufacturer-specific data. Analysing the relative contribution of each of these to explaining warranty will show whether it is a good metric (strongly dependent on physical properties of the battery pack) or not. "
   ]
  },
  {
   "cell_type": "code",
   "execution_count": 3,
   "metadata": {},
   "outputs": [],
   "source": [
    "df = pd.read_excel('pack_benchmark_spec_v1.055.xlsm','Benchmarks',header=[0,1],skiprows=1,nrows=1055)"
   ]
  },
  {
   "cell_type": "code",
   "execution_count": 4,
   "metadata": {},
   "outputs": [
    {
     "data": {
      "text/html": [
       "<div>\n",
       "<style scoped>\n",
       "    .dataframe tbody tr th:only-of-type {\n",
       "        vertical-align: middle;\n",
       "    }\n",
       "\n",
       "    .dataframe tbody tr th {\n",
       "        vertical-align: top;\n",
       "    }\n",
       "\n",
       "    .dataframe thead th {\n",
       "        text-align: right;\n",
       "    }\n",
       "</style>\n",
       "<table border=\"1\" class=\"dataframe\">\n",
       "  <thead>\n",
       "    <tr style=\"text-align: right;\">\n",
       "      <th></th>\n",
       "      <th>Years</th>\n",
       "      <th>Mileage</th>\n",
       "      <th>Cycles</th>\n",
       "    </tr>\n",
       "  </thead>\n",
       "  <tbody>\n",
       "    <tr>\n",
       "      <th>count</th>\n",
       "      <td>159.000000</td>\n",
       "      <td>115.000000</td>\n",
       "      <td>49.000000</td>\n",
       "    </tr>\n",
       "    <tr>\n",
       "      <th>mean</th>\n",
       "      <td>8.251572</td>\n",
       "      <td>111083.434323</td>\n",
       "      <td>6059.183673</td>\n",
       "    </tr>\n",
       "    <tr>\n",
       "      <th>std</th>\n",
       "      <td>2.056076</td>\n",
       "      <td>55007.134616</td>\n",
       "      <td>3872.171999</td>\n",
       "    </tr>\n",
       "    <tr>\n",
       "      <th>min</th>\n",
       "      <td>1.000000</td>\n",
       "      <td>10.000000</td>\n",
       "      <td>800.000000</td>\n",
       "    </tr>\n",
       "    <tr>\n",
       "      <th>25%</th>\n",
       "      <td>8.000000</td>\n",
       "      <td>100000.000000</td>\n",
       "      <td>4000.000000</td>\n",
       "    </tr>\n",
       "    <tr>\n",
       "      <th>50%</th>\n",
       "      <td>8.000000</td>\n",
       "      <td>100000.000000</td>\n",
       "      <td>6000.000000</td>\n",
       "    </tr>\n",
       "    <tr>\n",
       "      <th>75%</th>\n",
       "      <td>8.000000</td>\n",
       "      <td>100000.000000</td>\n",
       "      <td>8000.000000</td>\n",
       "    </tr>\n",
       "    <tr>\n",
       "      <th>max</th>\n",
       "      <td>15.000000</td>\n",
       "      <td>372902.423866</td>\n",
       "      <td>20000.000000</td>\n",
       "    </tr>\n",
       "  </tbody>\n",
       "</table>\n",
       "</div>"
      ],
      "text/plain": [
       "            Years        Mileage        Cycles\n",
       "count  159.000000     115.000000     49.000000\n",
       "mean     8.251572  111083.434323   6059.183673\n",
       "std      2.056076   55007.134616   3872.171999\n",
       "min      1.000000      10.000000    800.000000\n",
       "25%      8.000000  100000.000000   4000.000000\n",
       "50%      8.000000  100000.000000   6000.000000\n",
       "75%      8.000000  100000.000000   8000.000000\n",
       "max     15.000000  372902.423866  20000.000000"
      ]
     },
     "execution_count": 4,
     "metadata": {},
     "output_type": "execute_result"
    }
   ],
   "source": [
    "df.loc[:,'Warranty'].describe()"
   ]
  },
  {
   "cell_type": "markdown",
   "metadata": {},
   "source": [
    "We can estimate that: \n",
    "\n",
    "$pack\\ cycles = \\frac{pack\\ mileage\\ (\\mathrm{m})}{pack\\ capacity\\ (\\mathrm{kWh/cycle})} \\times \\frac{power\\ consumption\\ (\\mathrm{kW})}{average\\ speed\\ (\\mathrm{m/h})}$ \n",
    "\n",
    "Further, we can estimate that the power consumption has a dependence on the total pack capacity - naively, the relationship should be linear (similar discharge 'time' for each pack), but in reality, discharge time probably has a positive relationship with pack capacity (bigger vehicles need to run longer). Average speed, on the other hand, is probably roughly constant (~60mph). \n",
    "\n",
    "Putting this together the relationship is:\n",
    "\n",
    "$pack\\ cycles \\sim pack\\ mileage \\times (pack\\ capacity)^a$\n",
    "\n",
    "Which gives the linear equation:\n",
    "\n",
    "$\\log(pack\\ cycles) = \\log(pack\\ mileage) + a\\log(pack\\ capacity) + b$ , \\\n",
    "with $a$ and $b$ being undetermined constants. "
   ]
  },
  {
   "cell_type": "code",
   "execution_count": 5,
   "metadata": {},
   "outputs": [
    {
     "data": {
      "text/html": [
       "<div>\n",
       "<style scoped>\n",
       "    .dataframe tbody tr th:only-of-type {\n",
       "        vertical-align: middle;\n",
       "    }\n",
       "\n",
       "    .dataframe tbody tr th {\n",
       "        vertical-align: top;\n",
       "    }\n",
       "\n",
       "    .dataframe thead tr th {\n",
       "        text-align: left;\n",
       "    }\n",
       "</style>\n",
       "<table border=\"1\" class=\"dataframe\">\n",
       "  <thead>\n",
       "    <tr>\n",
       "      <th></th>\n",
       "      <th colspan=\"2\" halign=\"left\">Warranty</th>\n",
       "      <th>Energy</th>\n",
       "    </tr>\n",
       "    <tr>\n",
       "      <th></th>\n",
       "      <th>Cycles</th>\n",
       "      <th>Mileage</th>\n",
       "      <th>kWhtotal</th>\n",
       "    </tr>\n",
       "  </thead>\n",
       "  <tbody>\n",
       "    <tr>\n",
       "      <th>884</th>\n",
       "      <td>10000.0</td>\n",
       "      <td>10.0</td>\n",
       "      <td>11.0</td>\n",
       "    </tr>\n",
       "    <tr>\n",
       "      <th>885</th>\n",
       "      <td>10000.0</td>\n",
       "      <td>10.0</td>\n",
       "      <td>22.0</td>\n",
       "    </tr>\n",
       "    <tr>\n",
       "      <th>886</th>\n",
       "      <td>10000.0</td>\n",
       "      <td>10.0</td>\n",
       "      <td>5.5</td>\n",
       "    </tr>\n",
       "  </tbody>\n",
       "</table>\n",
       "</div>"
      ],
      "text/plain": [
       "    Warranty           Energy\n",
       "      Cycles Mileage kWhtotal\n",
       "884  10000.0    10.0     11.0\n",
       "885  10000.0    10.0     22.0\n",
       "886  10000.0    10.0      5.5"
      ]
     },
     "execution_count": 5,
     "metadata": {},
     "output_type": "execute_result"
    }
   ],
   "source": [
    "df.loc[:,[('Warranty','Cycles'),('Warranty','Mileage'),('Energy','kWhtotal')]].dropna(axis=0)"
   ]
  },
  {
   "cell_type": "markdown",
   "metadata": {},
   "source": [
    "Not enough data (yet). "
   ]
  },
  {
   "cell_type": "code",
   "execution_count": null,
   "metadata": {},
   "outputs": [],
   "source": []
  }
 ],
 "metadata": {
  "kernelspec": {
   "display_name": "dev",
   "language": "python",
   "name": "python3"
  },
  "language_info": {
   "codemirror_mode": {
    "name": "ipython",
    "version": 3
   },
   "file_extension": ".py",
   "mimetype": "text/x-python",
   "name": "python",
   "nbconvert_exporter": "python",
   "pygments_lexer": "ipython3",
   "version": "3.13.0"
  }
 },
 "nbformat": 4,
 "nbformat_minor": 2
}
