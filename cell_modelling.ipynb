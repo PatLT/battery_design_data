{
 "cells": [
  {
   "cell_type": "code",
   "execution_count": 1,
   "metadata": {},
   "outputs": [],
   "source": [
    "import pandas as pd\n",
    "import numpy as np\n",
    "import matplotlib.pyplot as plt"
   ]
  },
  {
   "cell_type": "code",
   "execution_count": 2,
   "metadata": {},
   "outputs": [],
   "source": [
    "import torch\n",
    "import torch.nn as nn\n",
    "import pyro\n",
    "import pyro.distributions as dist\n",
    "from pyro.infer import SVI, Trace_ELBO\n",
    "from pyro.optim import Adam"
   ]
  },
  {
   "cell_type": "code",
   "execution_count": 4,
   "metadata": {},
   "outputs": [],
   "source": [
    "pyro.set_rng_seed(0)"
   ]
  },
  {
   "cell_type": "code",
   "execution_count": 3,
   "metadata": {},
   "outputs": [],
   "source": [
    "df = pd.read_excel('pack_benchmark_spec_v1.042.xlsm','Cells',header=[0,1],skiprows=1,nrows=1102)"
   ]
  },
  {
   "cell_type": "markdown",
   "metadata": {},
   "source": [
    "## Data analysis"
   ]
  },
  {
   "cell_type": "code",
   "execution_count": 15,
   "metadata": {},
   "outputs": [],
   "source": [
    "feature_set_0 = [('Capacity','Ah (nom)'),('Voltage','Nom'),\n",
    "                 ('Mass','kg'),('Format','Unnamed: 13_level_1'),\n",
    "                 ('Chemistry','Family'),('Chemistry','Cathode'),('Chemistry','Anode'),\n",
    "                 ('Discharge','Ampsmax'),('Discharge','Ampscont'),\n",
    "                 ('Charge','Ampsmax'),('Charge','Ampscont'),\n",
    "                 ('Cycle Ageing','to 70% SoH'),('Cycle Ageing','to 80% SoH')]"
   ]
  },
  {
   "cell_type": "code",
   "execution_count": null,
   "metadata": {},
   "outputs": [
    {
     "data": {
      "text/html": [
       "<div>\n",
       "<style scoped>\n",
       "    .dataframe tbody tr th:only-of-type {\n",
       "        vertical-align: middle;\n",
       "    }\n",
       "\n",
       "    .dataframe tbody tr th {\n",
       "        vertical-align: top;\n",
       "    }\n",
       "\n",
       "    .dataframe thead tr th {\n",
       "        text-align: left;\n",
       "    }\n",
       "</style>\n",
       "<table border=\"1\" class=\"dataframe\">\n",
       "  <thead>\n",
       "    <tr>\n",
       "      <th></th>\n",
       "      <th>Capacity</th>\n",
       "      <th>Voltage</th>\n",
       "      <th>Mass</th>\n",
       "      <th colspan=\"2\" halign=\"left\">Discharge</th>\n",
       "      <th colspan=\"2\" halign=\"left\">Charge</th>\n",
       "      <th colspan=\"2\" halign=\"left\">Cycle Ageing</th>\n",
       "    </tr>\n",
       "    <tr>\n",
       "      <th></th>\n",
       "      <th>Ah (nom)</th>\n",
       "      <th>Nom</th>\n",
       "      <th>kg</th>\n",
       "      <th>Ampsmax</th>\n",
       "      <th>Ampscont</th>\n",
       "      <th>Ampsmax</th>\n",
       "      <th>Ampscont</th>\n",
       "      <th>to 70% SoH</th>\n",
       "      <th>to 80% SoH</th>\n",
       "    </tr>\n",
       "  </thead>\n",
       "  <tbody>\n",
       "    <tr>\n",
       "      <th>count</th>\n",
       "      <td>1096.000000</td>\n",
       "      <td>1040.000000</td>\n",
       "      <td>996.000000</td>\n",
       "      <td>263.000000</td>\n",
       "      <td>749.000000</td>\n",
       "      <td>439.000000</td>\n",
       "      <td>674.000000</td>\n",
       "      <td>83.000000</td>\n",
       "      <td>180.000000</td>\n",
       "    </tr>\n",
       "    <tr>\n",
       "      <th>mean</th>\n",
       "      <td>49.028663</td>\n",
       "      <td>3.468543</td>\n",
       "      <td>1.139255</td>\n",
       "      <td>306.046601</td>\n",
       "      <td>122.202017</td>\n",
       "      <td>99.171392</td>\n",
       "      <td>36.199128</td>\n",
       "      <td>3084.939759</td>\n",
       "      <td>3306.966667</td>\n",
       "    </tr>\n",
       "    <tr>\n",
       "      <th>std</th>\n",
       "      <td>86.742960</td>\n",
       "      <td>0.521512</td>\n",
       "      <td>2.542226</td>\n",
       "      <td>717.768219</td>\n",
       "      <td>250.885797</td>\n",
       "      <td>259.607692</td>\n",
       "      <td>74.335621</td>\n",
       "      <td>3168.477889</td>\n",
       "      <td>5087.746627</td>\n",
       "    </tr>\n",
       "    <tr>\n",
       "      <th>min</th>\n",
       "      <td>0.026000</td>\n",
       "      <td>1.200000</td>\n",
       "      <td>0.004200</td>\n",
       "      <td>2.500000</td>\n",
       "      <td>0.020000</td>\n",
       "      <td>0.825000</td>\n",
       "      <td>0.008000</td>\n",
       "      <td>200.000000</td>\n",
       "      <td>250.000000</td>\n",
       "    </tr>\n",
       "    <tr>\n",
       "      <th>25%</th>\n",
       "      <td>3.432645</td>\n",
       "      <td>3.200000</td>\n",
       "      <td>0.064500</td>\n",
       "      <td>20.000000</td>\n",
       "      <td>10.000000</td>\n",
       "      <td>4.800000</td>\n",
       "      <td>1.770000</td>\n",
       "      <td>600.000000</td>\n",
       "      <td>1000.000000</td>\n",
       "    </tr>\n",
       "    <tr>\n",
       "      <th>50%</th>\n",
       "      <td>8.500000</td>\n",
       "      <td>3.600000</td>\n",
       "      <td>0.245000</td>\n",
       "      <td>128.000000</td>\n",
       "      <td>30.000000</td>\n",
       "      <td>17.500000</td>\n",
       "      <td>4.000000</td>\n",
       "      <td>2000.000000</td>\n",
       "      <td>2000.000000</td>\n",
       "    </tr>\n",
       "    <tr>\n",
       "      <th>75%</th>\n",
       "      <td>57.250000</td>\n",
       "      <td>3.700000</td>\n",
       "      <td>1.245000</td>\n",
       "      <td>400.000000</td>\n",
       "      <td>150.000000</td>\n",
       "      <td>110.000000</td>\n",
       "      <td>26.637500</td>\n",
       "      <td>5000.000000</td>\n",
       "      <td>3500.000000</td>\n",
       "    </tr>\n",
       "    <tr>\n",
       "      <th>max</th>\n",
       "      <td>1000.000000</td>\n",
       "      <td>12.000000</td>\n",
       "      <td>38.000000</td>\n",
       "      <td>10000.000000</td>\n",
       "      <td>3000.000000</td>\n",
       "      <td>3000.000000</td>\n",
       "      <td>500.000000</td>\n",
       "      <td>13000.000000</td>\n",
       "      <td>35000.000000</td>\n",
       "    </tr>\n",
       "  </tbody>\n",
       "</table>\n",
       "</div>"
      ],
      "text/plain": [
       "          Capacity      Voltage        Mass     Discharge               \\\n",
       "          Ah (nom)          Nom          kg       Ampsmax     Ampscont   \n",
       "count  1096.000000  1040.000000  996.000000    263.000000   749.000000   \n",
       "mean     49.028663     3.468543    1.139255    306.046601   122.202017   \n",
       "std      86.742960     0.521512    2.542226    717.768219   250.885797   \n",
       "min       0.026000     1.200000    0.004200      2.500000     0.020000   \n",
       "25%       3.432645     3.200000    0.064500     20.000000    10.000000   \n",
       "50%       8.500000     3.600000    0.245000    128.000000    30.000000   \n",
       "75%      57.250000     3.700000    1.245000    400.000000   150.000000   \n",
       "max    1000.000000    12.000000   38.000000  10000.000000  3000.000000   \n",
       "\n",
       "            Charge              Cycle Ageing                \n",
       "           Ampsmax    Ampscont    to 70% SoH    to 80% SoH  \n",
       "count   439.000000  674.000000     83.000000    180.000000  \n",
       "mean     99.171392   36.199128   3084.939759   3306.966667  \n",
       "std     259.607692   74.335621   3168.477889   5087.746627  \n",
       "min       0.825000    0.008000    200.000000    250.000000  \n",
       "25%       4.800000    1.770000    600.000000   1000.000000  \n",
       "50%      17.500000    4.000000   2000.000000   2000.000000  \n",
       "75%     110.000000   26.637500   5000.000000   3500.000000  \n",
       "max    3000.000000  500.000000  13000.000000  35000.000000  "
      ]
     },
     "execution_count": 18,
     "metadata": {},
     "output_type": "execute_result"
    }
   ],
   "source": [
    "df.loc[:,feature_set_0].describe()"
   ]
  },
  {
   "cell_type": "code",
   "execution_count": 21,
   "metadata": {},
   "outputs": [
    {
     "data": {
      "text/html": [
       "<div>\n",
       "<style scoped>\n",
       "    .dataframe tbody tr th:only-of-type {\n",
       "        vertical-align: middle;\n",
       "    }\n",
       "\n",
       "    .dataframe tbody tr th {\n",
       "        vertical-align: top;\n",
       "    }\n",
       "\n",
       "    .dataframe thead tr th {\n",
       "        text-align: left;\n",
       "    }\n",
       "</style>\n",
       "<table border=\"1\" class=\"dataframe\">\n",
       "  <thead>\n",
       "    <tr>\n",
       "      <th></th>\n",
       "      <th>Format</th>\n",
       "      <th colspan=\"3\" halign=\"left\">Chemistry</th>\n",
       "    </tr>\n",
       "    <tr>\n",
       "      <th></th>\n",
       "      <th>Unnamed: 13_level_1</th>\n",
       "      <th>Family</th>\n",
       "      <th>Cathode</th>\n",
       "      <th>Anode</th>\n",
       "    </tr>\n",
       "  </thead>\n",
       "  <tbody>\n",
       "    <tr>\n",
       "      <th>count</th>\n",
       "      <td>1094</td>\n",
       "      <td>783</td>\n",
       "      <td>440</td>\n",
       "      <td>130</td>\n",
       "    </tr>\n",
       "    <tr>\n",
       "      <th>unique</th>\n",
       "      <td>7</td>\n",
       "      <td>24</td>\n",
       "      <td>19</td>\n",
       "      <td>17</td>\n",
       "    </tr>\n",
       "    <tr>\n",
       "      <th>top</th>\n",
       "      <td>Cylindrical</td>\n",
       "      <td>LFP</td>\n",
       "      <td>Lithium Iron Phosphate</td>\n",
       "      <td>Gr</td>\n",
       "    </tr>\n",
       "    <tr>\n",
       "      <th>freq</th>\n",
       "      <td>461</td>\n",
       "      <td>340</td>\n",
       "      <td>211</td>\n",
       "      <td>47</td>\n",
       "    </tr>\n",
       "  </tbody>\n",
       "</table>\n",
       "</div>"
      ],
      "text/plain": [
       "                    Format Chemistry                              \n",
       "       Unnamed: 13_level_1    Family                 Cathode Anode\n",
       "count                 1094       783                     440   130\n",
       "unique                   7        24                      19    17\n",
       "top            Cylindrical       LFP  Lithium Iron Phosphate    Gr\n",
       "freq                   461       340                     211    47"
      ]
     },
     "execution_count": 21,
     "metadata": {},
     "output_type": "execute_result"
    }
   ],
   "source": [
    "df.loc[:,feature_set_0].describe(include=['object','category'])"
   ]
  },
  {
   "cell_type": "code",
   "execution_count": 24,
   "metadata": {},
   "outputs": [
    {
     "data": {
      "text/plain": [
       "Unnamed: 13_level_1\n",
       "Cylindrical            461\n",
       "Prismatic              316\n",
       "Pouch                  280\n",
       "Blade                   19\n",
       "Cylinridcal              8\n",
       "cylindrical              8\n",
       "Cylindrical              2\n",
       "Name: count, dtype: int64"
      ]
     },
     "execution_count": 24,
     "metadata": {},
     "output_type": "execute_result"
    }
   ],
   "source": [
    "df.loc[:,'Format'].value_counts()"
   ]
  },
  {
   "cell_type": "code",
   "execution_count": 25,
   "metadata": {},
   "outputs": [
    {
     "data": {
      "text/plain": [
       "(Chemistry, Family)\n",
       "LFP                    340\n",
       "NMC                    200\n",
       "NCA                     56\n",
       "NMC, NCA, NMC/NCA       49\n",
       "LCO                     41\n",
       "LTO                     28\n",
       "NaB                     17\n",
       "NCM/NCA                 13\n",
       "LMO                      7\n",
       "Solid State              5\n",
       "NiCd                     4\n",
       "PbA                      4\n",
       "NMCA                     3\n",
       "NiMh                     3\n",
       "LiS                      2\n",
       "LMFP                     2\n",
       "NMX                      2\n",
       "BMLMP                    1\n",
       "NMC 811                  1\n",
       "Spinel                   1\n",
       "Silicon carbon cell      1\n",
       "LNCAO                    1\n",
       "Li-S                     1\n",
       "Chemistry                1\n",
       "Name: count, dtype: int64"
      ]
     },
     "execution_count": 25,
     "metadata": {},
     "output_type": "execute_result"
    }
   ],
   "source": [
    "df.loc[:,('Chemistry','Family')].value_counts()"
   ]
  },
  {
   "cell_type": "code",
   "execution_count": 26,
   "metadata": {},
   "outputs": [
    {
     "data": {
      "text/plain": [
       "(Chemistry, Cathode)\n",
       "Lithium Iron Phosphate    211\n",
       "Nickel rich               154\n",
       "Lithium Cobalt Oxide       33\n",
       "NMC811                     11\n",
       "NMC622                      7\n",
       "Li metal/Liquid             5\n",
       "Lithium Titanate            4\n",
       "Gr+Si                       3\n",
       "NaMO2                       2\n",
       "NMC523                      1\n",
       "NMC                         1\n",
       "712                         1\n",
       "NMC712                      1\n",
       "NMC111+NCA                  1\n",
       "High Nickel NCM+ Gr         1\n",
       "High Nickel + SiC/SiOx      1\n",
       "NMC955                      1\n",
       "#                           1\n",
       "40                          1\n",
       "Name: count, dtype: int64"
      ]
     },
     "execution_count": 26,
     "metadata": {},
     "output_type": "execute_result"
    }
   ],
   "source": [
    "df.loc[:,('Chemistry','Cathode')].value_counts()"
   ]
  },
  {
   "cell_type": "code",
   "execution_count": 27,
   "metadata": {},
   "outputs": [
    {
     "data": {
      "text/plain": [
       "(Chemistry, Anode)\n",
       "Gr                  47\n",
       "Graphite            28\n",
       "Aluminium           10\n",
       "Lithium Titanate     9\n",
       "Si                   9\n",
       "Li                   8\n",
       "Gr/SiO               5\n",
       "Gr-Si                4\n",
       "SiOx                 2\n",
       "Graphite+Silicon     1\n",
       "Gr+LTO               1\n",
       "Gr+SiO               1\n",
       "Gr+Si                1\n",
       "SiC                  1\n",
       "Hard carbon          1\n",
       "LTO                  1\n",
       "Soft carbon          1\n",
       "Name: count, dtype: int64"
      ]
     },
     "execution_count": 27,
     "metadata": {},
     "output_type": "execute_result"
    }
   ],
   "source": [
    "df.loc[:,('Chemistry','Anode')].value_counts()"
   ]
  },
  {
   "cell_type": "markdown",
   "metadata": {},
   "source": [
    "## ML model\n",
    "We will use the VAE-based model from [this paper](https://www.sciencedirect.com/science/article/pii/S0031320320303046#bib0045). The basic idea is to use a neural network model to 'reconstruct' the data. This is done by forcing it through a bottleneck in the NN, the _latent space_."
   ]
  },
  {
   "cell_type": "code",
   "execution_count": null,
   "metadata": {},
   "outputs": [],
   "source": [
    "# Code currently borrowed directly from https://pyro.ai/examples/vae.html\n",
    "\n",
    "class Decoder(nn.Module):\n",
    "    def __init__(self, z_dim, hidden_dim, output_dim):\n",
    "        super().__init__()\n",
    "        # setup the two linear transformations used\n",
    "        self.fc1 = nn.Linear(z_dim, hidden_dim)\n",
    "        self.fc21 = nn.Linear(hidden_dim, output_dim)\n",
    "        # setup the non-linearities\n",
    "        self.softplus = nn.Softplus()\n",
    "        self.sigmoid = nn.Sigmoid()\n",
    "\n",
    "    def forward(self, z):\n",
    "        # define the forward computation on the latent z\n",
    "        # first compute the hidden units\n",
    "        hidden = self.softplus(self.fc1(z))\n",
    "        # return the parameter for the output Bernoulli\n",
    "        # each is of size batch_size x input_dim\n",
    "        loc_img = self.sigmoid(self.fc21(hidden))\n",
    "        return loc_img"
   ]
  },
  {
   "cell_type": "code",
   "execution_count": 6,
   "metadata": {},
   "outputs": [],
   "source": [
    "class Encoder(nn.Module):\n",
    "    def __init__(self, z_dim, hidden_dim, input_dim):\n",
    "        super().__init__()\n",
    "        # setup the three linear transformations used\n",
    "        self.fc1 = nn.Linear(input_dim, hidden_dim)\n",
    "        self.fc21 = nn.Linear(hidden_dim, z_dim)\n",
    "        self.fc22 = nn.Linear(hidden_dim, z_dim)\n",
    "        # setup the non-linearities\n",
    "        self.softplus = nn.Softplus()\n",
    "\n",
    "    def forward(self, x):\n",
    "        # define the forward computation on the image x\n",
    "        # first shape the mini-batch to have pixels in the rightmost dimension\n",
    "        x = x.reshape(-1, self.input_dim)\n",
    "        # then compute the hidden units\n",
    "        hidden = self.softplus(self.fc1(x))\n",
    "        # then return a mean vector and a (positive) square root covariance\n",
    "        # each of size batch_size x z_dim\n",
    "        z_loc = self.fc21(hidden)\n",
    "        z_scale = torch.exp(self.fc22(hidden))\n",
    "        return z_loc, z_scale"
   ]
  },
  {
   "cell_type": "code",
   "execution_count": null,
   "metadata": {},
   "outputs": [],
   "source": []
  }
 ],
 "metadata": {
  "language_info": {
   "name": "python"
  }
 },
 "nbformat": 4,
 "nbformat_minor": 2
}
