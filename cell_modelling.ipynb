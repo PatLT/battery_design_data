{
 "cells": [
  {
   "cell_type": "code",
   "execution_count": 1,
   "metadata": {},
   "outputs": [],
   "source": [
    "import pandas as pd\n",
    "import numpy as np\n",
    "import matplotlib.pyplot as plt"
   ]
  },
  {
   "cell_type": "code",
   "execution_count": 2,
   "metadata": {},
   "outputs": [],
   "source": [
    "import torch\n",
    "import torch.nn as nn\n",
    "import pyro\n",
    "import pyro.distributions as dist\n",
    "from pyro.infer import SVI, Trace_ELBO\n",
    "from pyro.optim import Adam"
   ]
  },
  {
   "cell_type": "code",
   "execution_count": 3,
   "metadata": {},
   "outputs": [],
   "source": [
    "pyro.set_rng_seed(0)"
   ]
  },
  {
   "cell_type": "code",
   "execution_count": 4,
   "metadata": {},
   "outputs": [],
   "source": [
    "df = pd.read_excel('pack_benchmark_spec_v1.055.xlsm','Cells',header=[0,1],skiprows=1,nrows=1102)"
   ]
  },
  {
   "cell_type": "markdown",
   "metadata": {},
   "source": [
    "## Data analysis"
   ]
  },
  {
   "cell_type": "code",
   "execution_count": 9,
   "metadata": {},
   "outputs": [],
   "source": [
    "feature_set_0 = [('Capacity','Ah (nom)'),('Voltage','Nom'),\n",
    "                 ('Mass','kg'),('Format','Unnamed: 14_level_1'),\n",
    "                 ('Chemistry','Family'),('Chemistry','Cathode'),('Chemistry','Anode'),\n",
    "                 ('Discharge','Ampsmax'),('Discharge','Ampscont'),\n",
    "                 ('Charge','Ampsmax'),('Charge','Ampscont'),\n",
    "                 ('Cycle Ageing','to 70% SoH'),('Cycle Ageing','to 80% SoH')]"
   ]
  },
  {
   "cell_type": "code",
   "execution_count": 10,
   "metadata": {},
   "outputs": [
    {
     "data": {
      "text/html": [
       "<div>\n",
       "<style scoped>\n",
       "    .dataframe tbody tr th:only-of-type {\n",
       "        vertical-align: middle;\n",
       "    }\n",
       "\n",
       "    .dataframe tbody tr th {\n",
       "        vertical-align: top;\n",
       "    }\n",
       "\n",
       "    .dataframe thead tr th {\n",
       "        text-align: left;\n",
       "    }\n",
       "</style>\n",
       "<table border=\"1\" class=\"dataframe\">\n",
       "  <thead>\n",
       "    <tr>\n",
       "      <th></th>\n",
       "      <th>Capacity</th>\n",
       "      <th>Voltage</th>\n",
       "      <th>Mass</th>\n",
       "      <th colspan=\"2\" halign=\"left\">Discharge</th>\n",
       "      <th colspan=\"2\" halign=\"left\">Charge</th>\n",
       "      <th colspan=\"2\" halign=\"left\">Cycle Ageing</th>\n",
       "    </tr>\n",
       "    <tr>\n",
       "      <th></th>\n",
       "      <th>Ah (nom)</th>\n",
       "      <th>Nom</th>\n",
       "      <th>kg</th>\n",
       "      <th>Ampsmax</th>\n",
       "      <th>Ampscont</th>\n",
       "      <th>Ampsmax</th>\n",
       "      <th>Ampscont</th>\n",
       "      <th>to 70% SoH</th>\n",
       "      <th>to 80% SoH</th>\n",
       "    </tr>\n",
       "  </thead>\n",
       "  <tbody>\n",
       "    <tr>\n",
       "      <th>count</th>\n",
       "      <td>1099.000000</td>\n",
       "      <td>1049.000000</td>\n",
       "      <td>986.000000</td>\n",
       "      <td>261.000000</td>\n",
       "      <td>730.000000</td>\n",
       "      <td>414.000000</td>\n",
       "      <td>657.000000</td>\n",
       "      <td>84.000000</td>\n",
       "      <td>183.00000</td>\n",
       "    </tr>\n",
       "    <tr>\n",
       "      <th>mean</th>\n",
       "      <td>53.910874</td>\n",
       "      <td>3.467774</td>\n",
       "      <td>1.225870</td>\n",
       "      <td>298.912859</td>\n",
       "      <td>123.278508</td>\n",
       "      <td>99.097080</td>\n",
       "      <td>37.085752</td>\n",
       "      <td>3179.166667</td>\n",
       "      <td>3140.73224</td>\n",
       "    </tr>\n",
       "    <tr>\n",
       "      <th>std</th>\n",
       "      <td>97.407426</td>\n",
       "      <td>0.509421</td>\n",
       "      <td>2.674496</td>\n",
       "      <td>719.616163</td>\n",
       "      <td>252.415326</td>\n",
       "      <td>264.029472</td>\n",
       "      <td>74.246094</td>\n",
       "      <td>3265.594729</td>\n",
       "      <td>4662.17618</td>\n",
       "    </tr>\n",
       "    <tr>\n",
       "      <th>min</th>\n",
       "      <td>0.026000</td>\n",
       "      <td>1.200000</td>\n",
       "      <td>0.004200</td>\n",
       "      <td>2.500000</td>\n",
       "      <td>0.020000</td>\n",
       "      <td>0.825000</td>\n",
       "      <td>0.008000</td>\n",
       "      <td>200.000000</td>\n",
       "      <td>250.00000</td>\n",
       "    </tr>\n",
       "    <tr>\n",
       "      <th>25%</th>\n",
       "      <td>3.400000</td>\n",
       "      <td>3.200000</td>\n",
       "      <td>0.061475</td>\n",
       "      <td>20.000000</td>\n",
       "      <td>10.087500</td>\n",
       "      <td>5.000000</td>\n",
       "      <td>2.000000</td>\n",
       "      <td>600.000000</td>\n",
       "      <td>1000.00000</td>\n",
       "    </tr>\n",
       "    <tr>\n",
       "      <th>50%</th>\n",
       "      <td>10.000000</td>\n",
       "      <td>3.600000</td>\n",
       "      <td>0.269000</td>\n",
       "      <td>120.000000</td>\n",
       "      <td>33.500000</td>\n",
       "      <td>20.000000</td>\n",
       "      <td>4.400000</td>\n",
       "      <td>2000.000000</td>\n",
       "      <td>2000.00000</td>\n",
       "    </tr>\n",
       "    <tr>\n",
       "      <th>75%</th>\n",
       "      <td>62.750000</td>\n",
       "      <td>3.700000</td>\n",
       "      <td>1.420000</td>\n",
       "      <td>380.000000</td>\n",
       "      <td>150.000000</td>\n",
       "      <td>110.000000</td>\n",
       "      <td>30.000000</td>\n",
       "      <td>5250.000000</td>\n",
       "      <td>3500.00000</td>\n",
       "    </tr>\n",
       "    <tr>\n",
       "      <th>max</th>\n",
       "      <td>1175.000000</td>\n",
       "      <td>12.000000</td>\n",
       "      <td>38.000000</td>\n",
       "      <td>10000.000000</td>\n",
       "      <td>3000.000000</td>\n",
       "      <td>3000.000000</td>\n",
       "      <td>500.000000</td>\n",
       "      <td>13000.000000</td>\n",
       "      <td>35000.00000</td>\n",
       "    </tr>\n",
       "  </tbody>\n",
       "</table>\n",
       "</div>"
      ],
      "text/plain": [
       "          Capacity      Voltage        Mass     Discharge               \\\n",
       "          Ah (nom)          Nom          kg       Ampsmax     Ampscont   \n",
       "count  1099.000000  1049.000000  986.000000    261.000000   730.000000   \n",
       "mean     53.910874     3.467774    1.225870    298.912859   123.278508   \n",
       "std      97.407426     0.509421    2.674496    719.616163   252.415326   \n",
       "min       0.026000     1.200000    0.004200      2.500000     0.020000   \n",
       "25%       3.400000     3.200000    0.061475     20.000000    10.087500   \n",
       "50%      10.000000     3.600000    0.269000    120.000000    33.500000   \n",
       "75%      62.750000     3.700000    1.420000    380.000000   150.000000   \n",
       "max    1175.000000    12.000000   38.000000  10000.000000  3000.000000   \n",
       "\n",
       "            Charge              Cycle Ageing               \n",
       "           Ampsmax    Ampscont    to 70% SoH   to 80% SoH  \n",
       "count   414.000000  657.000000     84.000000    183.00000  \n",
       "mean     99.097080   37.085752   3179.166667   3140.73224  \n",
       "std     264.029472   74.246094   3265.594729   4662.17618  \n",
       "min       0.825000    0.008000    200.000000    250.00000  \n",
       "25%       5.000000    2.000000    600.000000   1000.00000  \n",
       "50%      20.000000    4.400000   2000.000000   2000.00000  \n",
       "75%     110.000000   30.000000   5250.000000   3500.00000  \n",
       "max    3000.000000  500.000000  13000.000000  35000.00000  "
      ]
     },
     "execution_count": 10,
     "metadata": {},
     "output_type": "execute_result"
    }
   ],
   "source": [
    "df.loc[:,feature_set_0].describe()"
   ]
  },
  {
   "cell_type": "code",
   "execution_count": 11,
   "metadata": {},
   "outputs": [
    {
     "data": {
      "text/html": [
       "<div>\n",
       "<style scoped>\n",
       "    .dataframe tbody tr th:only-of-type {\n",
       "        vertical-align: middle;\n",
       "    }\n",
       "\n",
       "    .dataframe tbody tr th {\n",
       "        vertical-align: top;\n",
       "    }\n",
       "\n",
       "    .dataframe thead tr th {\n",
       "        text-align: left;\n",
       "    }\n",
       "</style>\n",
       "<table border=\"1\" class=\"dataframe\">\n",
       "  <thead>\n",
       "    <tr>\n",
       "      <th></th>\n",
       "      <th>Format</th>\n",
       "      <th colspan=\"3\" halign=\"left\">Chemistry</th>\n",
       "    </tr>\n",
       "    <tr>\n",
       "      <th></th>\n",
       "      <th>Unnamed: 14_level_1</th>\n",
       "      <th>Family</th>\n",
       "      <th>Cathode</th>\n",
       "      <th>Anode</th>\n",
       "    </tr>\n",
       "  </thead>\n",
       "  <tbody>\n",
       "    <tr>\n",
       "      <th>count</th>\n",
       "      <td>1100</td>\n",
       "      <td>797</td>\n",
       "      <td>436</td>\n",
       "      <td>118</td>\n",
       "    </tr>\n",
       "    <tr>\n",
       "      <th>unique</th>\n",
       "      <td>6</td>\n",
       "      <td>23</td>\n",
       "      <td>17</td>\n",
       "      <td>16</td>\n",
       "    </tr>\n",
       "    <tr>\n",
       "      <th>top</th>\n",
       "      <td>Cylindrical</td>\n",
       "      <td>LFP</td>\n",
       "      <td>Lithium Iron Phosphate</td>\n",
       "      <td>Gr</td>\n",
       "    </tr>\n",
       "    <tr>\n",
       "      <th>freq</th>\n",
       "      <td>468</td>\n",
       "      <td>368</td>\n",
       "      <td>211</td>\n",
       "      <td>48</td>\n",
       "    </tr>\n",
       "  </tbody>\n",
       "</table>\n",
       "</div>"
      ],
      "text/plain": [
       "                    Format Chemistry                              \n",
       "       Unnamed: 14_level_1    Family                 Cathode Anode\n",
       "count                 1100       797                     436   118\n",
       "unique                   6        23                      17    16\n",
       "top            Cylindrical       LFP  Lithium Iron Phosphate    Gr\n",
       "freq                   468       368                     211    48"
      ]
     },
     "execution_count": 11,
     "metadata": {},
     "output_type": "execute_result"
    }
   ],
   "source": [
    "df.loc[:,feature_set_0].describe(include=['object','category'])"
   ]
  },
  {
   "cell_type": "code",
   "execution_count": 12,
   "metadata": {},
   "outputs": [
    {
     "data": {
      "text/plain": [
       "Unnamed: 14_level_1\n",
       "Cylindrical            468\n",
       "Prismatic              335\n",
       "Pouch                  266\n",
       "Blade                   21\n",
       "cylindrical              8\n",
       "Cylindrical              2\n",
       "Name: count, dtype: int64"
      ]
     },
     "execution_count": 12,
     "metadata": {},
     "output_type": "execute_result"
    }
   ],
   "source": [
    "df.loc[:,'Format'].value_counts()"
   ]
  },
  {
   "cell_type": "code",
   "execution_count": 13,
   "metadata": {},
   "outputs": [
    {
     "data": {
      "text/plain": [
       "(Chemistry, Family)\n",
       "LFP                    368\n",
       "NMC                    197\n",
       "NCA                     56\n",
       "NMC, NCA, NMC/NCA       49\n",
       "LCO                     40\n",
       "LTO                     19\n",
       "NaB                     17\n",
       "NCM/NCA                 13\n",
       "LMO                      7\n",
       "Solid State              5\n",
       "PbA                      4\n",
       "NiCd                     4\n",
       "NMCA                     3\n",
       "NiMh                     3\n",
       "LiS                      2\n",
       "LMFP                     2\n",
       "NMX                      2\n",
       "BMLMP                    1\n",
       "NMC 811                  1\n",
       "Spinel                   1\n",
       "Silicon carbon cell      1\n",
       "LNCAO                    1\n",
       "Li-S                     1\n",
       "Name: count, dtype: int64"
      ]
     },
     "execution_count": 13,
     "metadata": {},
     "output_type": "execute_result"
    }
   ],
   "source": [
    "df.loc[:,('Chemistry','Family')].value_counts()"
   ]
  },
  {
   "cell_type": "code",
   "execution_count": 14,
   "metadata": {},
   "outputs": [
    {
     "data": {
      "text/plain": [
       "(Chemistry, Cathode)\n",
       "Lithium Iron Phosphate    211\n",
       "Nickel rich               151\n",
       "Lithium Cobalt Oxide       33\n",
       "NMC811                     12\n",
       "NMC622                      7\n",
       "Li metal/Liquid             5\n",
       "Lithium Titanate            4\n",
       "Gr+Si                       3\n",
       "NaMO2                       2\n",
       "NMC523                      1\n",
       "NMC                         1\n",
       "712                         1\n",
       "NMC712                      1\n",
       "NMC111+NCA                  1\n",
       "High Nickel NCM+ Gr         1\n",
       "High Nickel + SiC/SiOx      1\n",
       "NMC955                      1\n",
       "Name: count, dtype: int64"
      ]
     },
     "execution_count": 14,
     "metadata": {},
     "output_type": "execute_result"
    }
   ],
   "source": [
    "df.loc[:,('Chemistry','Cathode')].value_counts()"
   ]
  },
  {
   "cell_type": "code",
   "execution_count": 15,
   "metadata": {},
   "outputs": [
    {
     "data": {
      "text/plain": [
       "(Chemistry, Anode)\n",
       "Gr                  48\n",
       "Graphite            26\n",
       "Si                   9\n",
       "Li                   8\n",
       "Aluminium            8\n",
       "Gr/SiO               5\n",
       "Gr-Si                4\n",
       "Li metal             2\n",
       "LTO                  1\n",
       "Hard carbon          1\n",
       "SiC                  1\n",
       "Graphite+Silicon     1\n",
       "Soft carbon          1\n",
       "Gr+LTO               1\n",
       "Gr+SiO               1\n",
       "Gr+Si                1\n",
       "Name: count, dtype: int64"
      ]
     },
     "execution_count": 15,
     "metadata": {},
     "output_type": "execute_result"
    }
   ],
   "source": [
    "df.loc[:,('Chemistry','Anode')].value_counts()"
   ]
  },
  {
   "cell_type": "markdown",
   "metadata": {},
   "source": [
    "## ML model\n",
    "We will use the VAE-based model from [this paper](https://www.sciencedirect.com/science/article/pii/S0031320320303046#bib0045). The basic idea is to use a neural network model to 'reconstruct' the data. This is done by forcing it through a bottleneck in the NN, the _latent space_."
   ]
  },
  {
   "cell_type": "code",
   "execution_count": null,
   "metadata": {},
   "outputs": [],
   "source": []
  }
 ],
 "metadata": {
  "kernelspec": {
   "display_name": "pytorchenv",
   "language": "python",
   "name": "python3"
  },
  "language_info": {
   "codemirror_mode": {
    "name": "ipython",
    "version": 3
   },
   "file_extension": ".py",
   "mimetype": "text/x-python",
   "name": "python",
   "nbconvert_exporter": "python",
   "pygments_lexer": "ipython3",
   "version": "3.12.7"
  }
 },
 "nbformat": 4,
 "nbformat_minor": 2
}
